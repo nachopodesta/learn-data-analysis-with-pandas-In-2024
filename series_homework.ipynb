{
 "cells": [
  {
   "cell_type": "markdown",
   "id": "f25a38eb",
   "metadata": {},
   "source": [
    "#### Import pandas with its alias"
   ]
  },
  {
   "cell_type": "code",
   "execution_count": 1,
   "id": "b50fd072",
   "metadata": {},
   "outputs": [],
   "source": [
    "import pandas as pd"
   ]
  },
  {
   "cell_type": "markdown",
   "id": "1c1eb573",
   "metadata": {},
   "source": [
    "#### Load the ```TopRichestInWorld.csv``` file and make 'Name' the index and 'Age' the column"
   ]
  },
  {
   "cell_type": "code",
   "execution_count": 24,
   "id": "2725b262",
   "metadata": {},
   "outputs": [
    {
     "data": {
      "text/plain": [
       "Name\n",
       "Elon Musk                   50\n",
       "Jeff Bezos                  58\n",
       "Bernard Arnault & family    73\n",
       "Bill Gates                  66\n",
       "Warren Buffett              91\n",
       "                            ..\n",
       "Vladimir Potanin            61\n",
       "Harold Hamm & family        76\n",
       "Sun Piaoyang                63\n",
       "Luo Liguo & family          66\n",
       "Peter Woo                   75\n",
       "Name: Age, Length: 101, dtype: int64"
      ]
     },
     "execution_count": 24,
     "metadata": {},
     "output_type": "execute_result"
    }
   ],
   "source": [
    "top = pd.read_csv('TopRichestInWorld.csv', usecols=['Name','Age'], index_col='Name').squeeze()\n",
    "top"
   ]
  },
  {
   "cell_type": "markdown",
   "id": "887579c8",
   "metadata": {},
   "source": [
    "#### Which person is the oldest?"
   ]
  },
  {
   "cell_type": "code",
   "execution_count": 26,
   "id": "fed5905a",
   "metadata": {},
   "outputs": [
    {
     "data": {
      "text/plain": [
       "'Lee Shau Kee'"
      ]
     },
     "execution_count": 26,
     "metadata": {},
     "output_type": "execute_result"
    }
   ],
   "source": [
    "oldest = top.idxmax()\n",
    "oldest"
   ]
  },
  {
   "cell_type": "markdown",
   "id": "997a3c61",
   "metadata": {},
   "source": [
    "#### How old is he?"
   ]
  },
  {
   "cell_type": "code",
   "execution_count": 27,
   "id": "79abfe3d",
   "metadata": {},
   "outputs": [
    {
     "data": {
      "text/plain": [
       "94"
      ]
     },
     "execution_count": 27,
     "metadata": {},
     "output_type": "execute_result"
    }
   ],
   "source": [
    "top['Lee Shau Kee']"
   ]
  },
  {
   "cell_type": "code",
   "execution_count": 28,
   "id": "c4b51491-3141-4c07-8d2b-4fba31d20a9b",
   "metadata": {},
   "outputs": [
    {
     "data": {
      "text/plain": [
       "94"
      ]
     },
     "execution_count": 28,
     "metadata": {},
     "output_type": "execute_result"
    }
   ],
   "source": [
    "top[oldest]"
   ]
  },
  {
   "cell_type": "markdown",
   "id": "e435a49e",
   "metadata": {},
   "source": [
    "#### Sort the values from the oldest to youngest age to verify"
   ]
  },
  {
   "cell_type": "code",
   "execution_count": 30,
   "id": "897d0c21",
   "metadata": {},
   "outputs": [
    {
     "data": {
      "text/plain": [
       "Name\n",
       "Lee Shau Kee               94\n",
       "Li Ka-shing                93\n",
       "Warren Buffett             91\n",
       "Rupert Murdoch & family    91\n",
       "Leonard Lauder             89\n",
       "                           ..\n",
       "Yang Huiyan & family       40\n",
       "Guillaume Pousaz           40\n",
       "Zhang Yiming               38\n",
       "Mark Zuckerberg            37\n",
       "Sam Bankman-Fried          30\n",
       "Name: Age, Length: 101, dtype: int64"
      ]
     },
     "execution_count": 30,
     "metadata": {},
     "output_type": "execute_result"
    }
   ],
   "source": [
    "top.sort_values(ascending=False)"
   ]
  },
  {
   "cell_type": "markdown",
   "id": "4335d9b1",
   "metadata": {},
   "source": [
    "#### Which person is the youngest?"
   ]
  },
  {
   "cell_type": "code",
   "execution_count": 33,
   "id": "df45b19e",
   "metadata": {},
   "outputs": [
    {
     "data": {
      "text/plain": [
       "'Sam Bankman-Fried'"
      ]
     },
     "execution_count": 33,
     "metadata": {},
     "output_type": "execute_result"
    }
   ],
   "source": [
    "youngest = top.idxmin()\n",
    "youngest"
   ]
  },
  {
   "cell_type": "markdown",
   "id": "1d895389",
   "metadata": {},
   "source": [
    "#### How young is the youngest?"
   ]
  },
  {
   "cell_type": "code",
   "execution_count": 34,
   "id": "560aed7c",
   "metadata": {},
   "outputs": [
    {
     "data": {
      "text/plain": [
       "30"
      ]
     },
     "execution_count": 34,
     "metadata": {},
     "output_type": "execute_result"
    }
   ],
   "source": [
    "top[youngest]"
   ]
  },
  {
   "cell_type": "markdown",
   "id": "ce7dec62",
   "metadata": {},
   "source": [
    "#### What is the average age of all the millionaires? (Round it to 2 decimal places)"
   ]
  },
  {
   "cell_type": "code",
   "execution_count": 36,
   "id": "92acbe42",
   "metadata": {},
   "outputs": [
    {
     "data": {
      "text/plain": [
       "67.12"
      ]
     },
     "execution_count": 36,
     "metadata": {},
     "output_type": "execute_result"
    }
   ],
   "source": [
    "top.mean().round(2)"
   ]
  },
  {
   "cell_type": "markdown",
   "id": "bc855fe3",
   "metadata": {},
   "source": [
    "#### Save the series as a csv file named: sample.csv"
   ]
  },
  {
   "cell_type": "code",
   "execution_count": 37,
   "id": "d2b3ed70",
   "metadata": {},
   "outputs": [],
   "source": [
    "top.to_csv('sample.csv')"
   ]
  },
  {
   "cell_type": "markdown",
   "id": "c59410b5",
   "metadata": {},
   "source": [
    "#### Read the csv you just saved"
   ]
  },
  {
   "cell_type": "code",
   "execution_count": 41,
   "id": "a673f042",
   "metadata": {},
   "outputs": [
    {
     "data": {
      "text/html": [
       "<div>\n",
       "<style scoped>\n",
       "    .dataframe tbody tr th:only-of-type {\n",
       "        vertical-align: middle;\n",
       "    }\n",
       "\n",
       "    .dataframe tbody tr th {\n",
       "        vertical-align: top;\n",
       "    }\n",
       "\n",
       "    .dataframe thead th {\n",
       "        text-align: right;\n",
       "    }\n",
       "</style>\n",
       "<table border=\"1\" class=\"dataframe\">\n",
       "  <thead>\n",
       "    <tr style=\"text-align: right;\">\n",
       "      <th></th>\n",
       "      <th>Name</th>\n",
       "      <th>Age</th>\n",
       "    </tr>\n",
       "  </thead>\n",
       "  <tbody>\n",
       "    <tr>\n",
       "      <th>0</th>\n",
       "      <td>Elon Musk</td>\n",
       "      <td>50</td>\n",
       "    </tr>\n",
       "    <tr>\n",
       "      <th>1</th>\n",
       "      <td>Jeff Bezos</td>\n",
       "      <td>58</td>\n",
       "    </tr>\n",
       "    <tr>\n",
       "      <th>2</th>\n",
       "      <td>Bernard Arnault &amp; family</td>\n",
       "      <td>73</td>\n",
       "    </tr>\n",
       "    <tr>\n",
       "      <th>3</th>\n",
       "      <td>Bill Gates</td>\n",
       "      <td>66</td>\n",
       "    </tr>\n",
       "    <tr>\n",
       "      <th>4</th>\n",
       "      <td>Warren Buffett</td>\n",
       "      <td>91</td>\n",
       "    </tr>\n",
       "    <tr>\n",
       "      <th>...</th>\n",
       "      <td>...</td>\n",
       "      <td>...</td>\n",
       "    </tr>\n",
       "    <tr>\n",
       "      <th>96</th>\n",
       "      <td>Vladimir Potanin</td>\n",
       "      <td>61</td>\n",
       "    </tr>\n",
       "    <tr>\n",
       "      <th>97</th>\n",
       "      <td>Harold Hamm &amp; family</td>\n",
       "      <td>76</td>\n",
       "    </tr>\n",
       "    <tr>\n",
       "      <th>98</th>\n",
       "      <td>Sun Piaoyang</td>\n",
       "      <td>63</td>\n",
       "    </tr>\n",
       "    <tr>\n",
       "      <th>99</th>\n",
       "      <td>Luo Liguo &amp; family</td>\n",
       "      <td>66</td>\n",
       "    </tr>\n",
       "    <tr>\n",
       "      <th>100</th>\n",
       "      <td>Peter Woo</td>\n",
       "      <td>75</td>\n",
       "    </tr>\n",
       "  </tbody>\n",
       "</table>\n",
       "<p>101 rows × 2 columns</p>\n",
       "</div>"
      ],
      "text/plain": [
       "                         Name  Age\n",
       "0                   Elon Musk   50\n",
       "1                  Jeff Bezos   58\n",
       "2    Bernard Arnault & family   73\n",
       "3                  Bill Gates   66\n",
       "4              Warren Buffett   91\n",
       "..                        ...  ...\n",
       "96           Vladimir Potanin   61\n",
       "97       Harold Hamm & family   76\n",
       "98               Sun Piaoyang   63\n",
       "99         Luo Liguo & family   66\n",
       "100                 Peter Woo   75\n",
       "\n",
       "[101 rows x 2 columns]"
      ]
     },
     "execution_count": 41,
     "metadata": {},
     "output_type": "execute_result"
    }
   ],
   "source": [
    "readtop = pd.read_csv('sample.csv')\n",
    "readtop"
   ]
  }
 ],
 "metadata": {
  "kernelspec": {
   "display_name": "Python 3 (ipykernel)",
   "language": "python",
   "name": "python3"
  },
  "language_info": {
   "codemirror_mode": {
    "name": "ipython",
    "version": 3
   },
   "file_extension": ".py",
   "mimetype": "text/x-python",
   "name": "python",
   "nbconvert_exporter": "python",
   "pygments_lexer": "ipython3",
   "version": "3.12.7"
  }
 },
 "nbformat": 4,
 "nbformat_minor": 5
}
